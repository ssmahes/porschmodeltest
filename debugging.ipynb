{
 "cells": [
  {
   "cell_type": "code",
   "execution_count": 1,
   "metadata": {},
   "outputs": [
    {
     "name": "stdout",
     "output_type": "stream",
     "text": [
      "Bestand bestaat en is 59836 bytes groot.\n"
     ]
    }
   ],
   "source": [
    "import os\n",
    "\n",
    "file_path = r'C:\\Users\\sanma\\Downloads\\PORSCH\\GP.xlsx'\n",
    "if os.path.exists(file_path):\n",
    "    print(f\"Bestand bestaat en is {os.path.getsize(file_path)} bytes groot.\")\n",
    "else:\n",
    "    print(\"Bestand bestaat niet.\")"
   ]
  },
  {
   "cell_type": "code",
   "execution_count": 2,
   "metadata": {},
   "outputs": [
    {
     "name": "stdout",
     "output_type": "stream",
     "text": [
      "Fout bij het lezen van het bestand: Worksheet index 0 is invalid, 0 worksheets found\n"
     ]
    },
    {
     "name": "stderr",
     "output_type": "stream",
     "text": [
      "c:\\Users\\sanma\\anaconda3\\envs\\porsch-env\\Lib\\site-packages\\openpyxl\\reader\\workbook.py:84: UserWarning: File contains an invalid specification for 0. This will be removed\n",
      "  warn(msg)\n"
     ]
    }
   ],
   "source": [
    "import pandas as pd\n",
    "\n",
    "try:\n",
    "    data_dictionary = pd.read_excel(r'C:\\Users\\sanma\\Downloads\\PORSCH\\GP.xlsx', sheet_name=0)\n",
    "    print(\"Bestand succesvol gelezen.\")\n",
    "except Exception as e:\n",
    "    print(f\"Fout bij het lezen van het bestand: {e}\")"
   ]
  },
  {
   "cell_type": "code",
   "execution_count": 3,
   "metadata": {},
   "outputs": [
    {
     "name": "stdout",
     "output_type": "stream",
     "text": [
      "Werkbladen in het bestand: []\n"
     ]
    }
   ],
   "source": [
    "from openpyxl import load_workbook\n",
    "\n",
    "try:\n",
    "    wb = load_workbook(r'C:\\Users\\sanma\\Downloads\\PORSCH\\GP.xlsx')\n",
    "    print(f\"Werkbladen in het bestand: {wb.sheetnames}\")\n",
    "except Exception as e:\n",
    "    print(f\"Fout bij het openen van het bestand met openpyxl: {e}\")"
   ]
  },
  {
   "cell_type": "code",
   "execution_count": 4,
   "metadata": {},
   "outputs": [
    {
     "name": "stdout",
     "output_type": "stream",
     "text": [
      "Fout bij het lezen als CSV: 'utf-8' codec can't decode byte 0x9e in position 14: invalid start byte\n"
     ]
    }
   ],
   "source": [
    "import pandas as pd\n",
    "\n",
    "try:\n",
    "    data = pd.read_csv(r'C:\\Users\\sanma\\Downloads\\PORSCH\\GP.xlsx', sep='\\t')\n",
    "    print(f\"Aantal rijen: {len(data)}\")\n",
    "    print(f\"Kolommen: {data.columns}\")\n",
    "except Exception as e:\n",
    "    print(f\"Fout bij het lezen als CSV: {e}\")"
   ]
  },
  {
   "cell_type": "code",
   "execution_count": 5,
   "metadata": {},
   "outputs": [
    {
     "name": "stdout",
     "output_type": "stream",
     "text": [
      "Bestand bestaat en is 59836 bytes groot.\n",
      "Laatste wijziging: 1722847984.2581458\n"
     ]
    }
   ],
   "source": [
    "import os\n",
    "\n",
    "file_path = r'C:\\Users\\sanma\\Downloads\\PORSCH\\GP.xlsx'\n",
    "if os.path.exists(file_path):\n",
    "    print(f\"Bestand bestaat en is {os.path.getsize(file_path)} bytes groot.\")\n",
    "    print(f\"Laatste wijziging: {os.path.getmtime(file_path)}\")\n",
    "else:\n",
    "    print(\"Bestand bestaat niet.\")"
   ]
  },
  {
   "cell_type": "code",
   "execution_count": 6,
   "metadata": {},
   "outputs": [
    {
     "name": "stdout",
     "output_type": "stream",
     "text": [
      "Werkbladen gevonden: ['GP']\n",
      "Werkblad 'GP' heeft 1391 rijen en 9 kolommen\n"
     ]
    }
   ],
   "source": [
    "import pandas as pd\n",
    "\n",
    "try:\n",
    "    data_dictionary = pd.read_excel(r'C:\\Users\\sanma\\Downloads\\PORSCH\\GP_new.xlsx', sheet_name=None)\n",
    "    print(f\"Werkbladen gevonden: {list(data_dictionary.keys())}\")\n",
    "    for sheet_name, df in data_dictionary.items():\n",
    "        print(f\"Werkblad '{sheet_name}' heeft {len(df)} rijen en {len(df.columns)} kolommen\")\n",
    "except Exception as e:\n",
    "    print(f\"Fout bij het lezen van het bestand: {e}\")"
   ]
  }
 ],
 "metadata": {
  "kernelspec": {
   "display_name": "Python 3",
   "language": "python",
   "name": "python3"
  },
  "language_info": {
   "codemirror_mode": {
    "name": "ipython",
    "version": 3
   },
   "file_extension": ".py",
   "mimetype": "text/x-python",
   "name": "python",
   "nbconvert_exporter": "python",
   "pygments_lexer": "ipython3",
   "version": "3.11.9"
  }
 },
 "nbformat": 4,
 "nbformat_minor": 2
}
