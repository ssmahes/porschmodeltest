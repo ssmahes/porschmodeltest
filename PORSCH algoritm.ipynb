{
 "cells": [
  {
   "cell_type": "code",
   "execution_count": 1,
   "metadata": {},
   "outputs": [
    {
     "ename": "ModuleNotFoundError",
     "evalue": "No module named 'pandas'",
     "output_type": "error",
     "traceback": [
      "\u001b[1;31m---------------------------------------------------------------------------\u001b[0m",
      "\u001b[1;31mModuleNotFoundError\u001b[0m                       Traceback (most recent call last)",
      "Cell \u001b[1;32mIn[1], line 1\u001b[0m\n\u001b[1;32m----> 1\u001b[0m \u001b[38;5;28;01mimport\u001b[39;00m \u001b[38;5;21;01mpandas\u001b[39;00m \u001b[38;5;28;01mas\u001b[39;00m \u001b[38;5;21;01mpd\u001b[39;00m\n\u001b[0;32m      2\u001b[0m \u001b[38;5;28;01mimport\u001b[39;00m \u001b[38;5;21;01mnumpy\u001b[39;00m \u001b[38;5;28;01mas\u001b[39;00m \u001b[38;5;21;01mnp\u001b[39;00m\n\u001b[0;32m      3\u001b[0m \u001b[38;5;28;01mimport\u001b[39;00m \u001b[38;5;21;01mtorch\u001b[39;00m\n",
      "\u001b[1;31mModuleNotFoundError\u001b[0m: No module named 'pandas'"
     ]
    }
   ],
   "source": [
    "import pandas as pd\n",
    "import numpy as np\n",
    "import torch\n",
    "from sklearn.preprocessing import StandardScaler, OneHotEncoder\n",
    "from sklearn.impute import SimpleImputer\n",
    "from sklearn.model_selection import train_test_split"
   ]
  },
  {
   "cell_type": "code",
   "execution_count": null,
   "metadata": {},
   "outputs": [],
   "source": [
    "\n",
    "# Functie om data in te laden\n",
    "def load_data(file_path):\n",
    "    return pd.read_excel(file_path)\n",
    "\n",
    "# Laad de data dictionary\n",
    "dd = load_data('path_to_data_dictionary.xlsx')\n",
    "\n",
    "# Functie om relevante variabelen te selecteren\n",
    "def select_variables(dd):\n",
    "    return dd[(dd['Meenemen (0=nee, 1= ja, 2=onbekend, 3=computatie)'] == 1) & \n",
    "              (dd['0=input, 1=output, 2=onbekend'] != 2)]['Variable name'].tolist()\n",
    "\n",
    "# Selecteer relevante variabelen\n",
    "variables = select_variables(dd)"
   ]
  },
  {
   "cell_type": "code",
   "execution_count": null,
   "metadata": {},
   "outputs": [],
   "source": [
    "\n",
    "# Laad alle databestanden\n",
    "data_files = ['path_to_file1.xlsx', 'path_to_file2.xlsx', ...]  # Voeg hier alle bestandspaden toe\n",
    "data_frames = [load_data(file) for file in data_files]\n",
    "\n",
    "# Combineer alle dataframes\n",
    "combined_data = pd.concat(data_frames, axis=1)\n",
    "\n",
    "# Selecteer alleen de relevante kolommen\n",
    "data = combined_data[variables]"
   ]
  },
  {
   "cell_type": "code",
   "execution_count": null,
   "metadata": {},
   "outputs": [],
   "source": [
    "\n",
    "# Analyseer missing data\n",
    "missing_data = data.isnull().sum() / len(data) * 100\n",
    "print(\"Percentage missende waarden per variabele:\")\n",
    "print(missing_data.sort_values(ascending=False))\n",
    "\n",
    "# Verwijder variabelen met te veel missende waarden (bijvoorbeeld meer dan 50%)\n",
    "threshold = 50\n",
    "data = data.loc[:, data.isnull().mean() < threshold/100]"
   ]
  },
  {
   "cell_type": "code",
   "execution_count": null,
   "metadata": {},
   "outputs": [],
   "source": [
    "\n",
    "# Splits de data in continue en categorische variabelen\n",
    "continuous_vars = data.select_dtypes(include=['float64', 'int64']).columns\n",
    "categorical_vars = data.select_dtypes(include=['object']).columns\n",
    "\n",
    "# Imputeer missende waarden\n",
    "cont_imputer = SimpleImputer(strategy='mean')\n",
    "cat_imputer = SimpleImputer(strategy='most_frequent')\n",
    "\n",
    "data[continuous_vars] = cont_imputer.fit_transform(data[continuous_vars])\n",
    "data[categorical_vars] = cat_imputer.fit_transform(data[categorical_vars])"
   ]
  },
  {
   "cell_type": "code",
   "execution_count": null,
   "metadata": {},
   "outputs": [],
   "source": [
    "\n",
    "# Normaliseer continue variabelen\n",
    "scaler = StandardScaler()\n",
    "data[continuous_vars] = scaler.fit_transform(data[continuous_vars])"
   ]
  },
  {
   "cell_type": "code",
   "execution_count": null,
   "metadata": {},
   "outputs": [],
   "source": [
    "\n",
    "# One-hot encoding voor categorische variabelen\n",
    "encoder = OneHotEncoder(sparse=False, handle_unknown='ignore')\n",
    "encoded_cats = encoder.fit_transform(data[categorical_vars])\n",
    "encoded_df = pd.DataFrame(encoded_cats, columns=encoder.get_feature_names(categorical_vars))"
   ]
  },
  {
   "cell_type": "code",
   "execution_count": null,
   "metadata": {},
   "outputs": [],
   "source": [
    "\n",
    "# Combineer gecodeerde categorische variabelen met continue variabelen\n",
    "final_data = pd.concat([data[continuous_vars], encoded_df], axis=1)"
   ]
  },
  {
   "cell_type": "code",
   "execution_count": null,
   "metadata": {},
   "outputs": [],
   "source": [
    "\n",
    "# Split de data in features (X) en target (y)\n",
    "X = final_data\n",
    "y = data['target_variable']  # Vervang 'target_variable' door de naam van uw doelvariabele"
   ]
  },
  {
   "cell_type": "code",
   "execution_count": null,
   "metadata": {},
   "outputs": [],
   "source": [
    "\n",
    "# Split de data in training en testsets\n",
    "X_train, X_test, y_train, y_test = train_test_split(X, y, test_size=0.2, random_state=42)"
   ]
  },
  {
   "cell_type": "code",
   "execution_count": null,
   "metadata": {},
   "outputs": [],
   "source": [
    "\n",
    "# Converteer naar PyTorch tensors\n",
    "X_train_tensor = torch.FloatTensor(X_train.values)\n",
    "y_train_tensor = torch.FloatTensor(y_train.values)\n",
    "X_test_tensor = torch.FloatTensor(X_test.values)\n",
    "y_test_tensor = torch.FloatTensor(y_test.values)"
   ]
  }
 ],
 "metadata": {
  "kernelspec": {
   "display_name": "Python 3",
   "language": "python",
   "name": "python3"
  },
  "language_info": {
   "codemirror_mode": {
    "name": "ipython",
    "version": 3
   },
   "file_extension": ".py",
   "mimetype": "text/x-python",
   "name": "python",
   "nbconvert_exporter": "python",
   "pygments_lexer": "ipython3",
   "version": "3.11.0"
  }
 },
 "nbformat": 4,
 "nbformat_minor": 2
}
