{
 "cells": [
  {
   "cell_type": "code",
   "execution_count": 1,
   "metadata": {},
   "outputs": [],
   "source": [
    "\n",
    "\n",
    "import pytorch_lightning as pl\n",
    "import pandas as pd\n",
    "import numpy as np\n",
    "import torch\n",
    "from torch.utils.data import DataLoader, TensorDataset\n",
    "from sklearn.model_selection import train_test_split\n",
    "from sklearn.preprocessing import StandardScaler, OneHotEncoder\n",
    "from sklearn.impute import SimpleImputer\n",
    "from sklearn.compose import ColumnTransformer\n",
    "\n",
    "file_path = '\"C:\\Users\\sanma\\Downloads\\PORSCH\\GP.xlsx\"'\n"
   ]
  },
  {
   "cell_type": "code",
   "execution_count": 5,
   "metadata": {},
   "outputs": [],
   "source": [
    "file_path = r'C:\\Users\\sanma\\Downloads\\PORSCH\\GP.xlsx'\n",
    "# Definieer hulpfuncties\n",
    "def load_data(file_path):\n",
    "    \"\"\"Laad een Excel-bestand en retourneer als pandas DataFrame.\"\"\"\n",
    "    return pd.read_excel(file_path)\n",
    "def select_variables(dd):\n",
    "    \"\"\"Selecteer variabelen die moeten worden meegenomen.\"\"\"\n",
    "    return dd[(dd['Meenemen (0=nee, 1= ja, 2=onbekend, 3=computatie)'] == 1) & \n",
    "              (dd['0=input, 1=output, 2=onbekend'] != 2)]['Variable name'].tolist()\n"
   ]
  },
  {
   "cell_type": "code",
   "execution_count": 7,
   "metadata": {},
   "outputs": [],
   "source": [
    "# Definieer de PORSCH2DataModule klasse\n",
    "class PORSCH2DataModule(pl.LightningDataModule):\n",
    "    def __init__(self, data_files, dd_path, batch_size=32, missing_threshold=50):\n",
    "        super().__init__()\n",
    "        self.data_files = data_files\n",
    "        self.dd_path = dd_path\n",
    "        self.batch_size = batch_size\n",
    "        self.missing_threshold = missing_threshold\n",
    "        self.data = None\n",
    "        self.X_train = None\n",
    "        self.X_val = None\n",
    "        self.y_train = None\n",
    "        self.y_val = None\n",
    "\n",
    "    def prepare_data(self):\n",
    "        # Laad data dictionary\n",
    "        dd = load_data(self.dd_path)\n",
    "        variables = select_variables(dd)\n",
    "        \n",
    "        # Laad en combineer data uit alle bestanden\n",
    "        dfs = [load_data(file) for file in self.data_files]\n",
    "        self.data = pd.concat(dfs, ignore_index=True)\n",
    "        \n",
    "        # Selecteer relevante variabelen\n",
    "        self.data = self.data[variables]\n",
    "        \n",
    "        # Verwijder variabelen met te veel missende waarden\n",
    "        missing_percentages = self.data.isnull().mean() * 100\n",
    "        self.data = self.data.loc[:, missing_percentages < self.missing_threshold]\n",
    "\n",
    "    def setup(self, stage=None):\n",
    "        # Scheid features en target\n",
    "        X = self.data.drop('target_column', axis=1)  # Vervang 'target_column' door de naam van je doelvariabele\n",
    "        y = self.data['target_column']\n",
    "\n",
    "        # Split data\n",
    "        X_train, X_val, y_train, y_val = train_test_split(X, y, test_size=0.2, random_state=42)\n",
    "\n",
    "        # Preprocessing\n",
    "        numeric_features = X.select_dtypes(include=['int64', 'float64']).columns\n",
    "        categorical_features = X.select_dtypes(include=['object']).columns\n",
    "\n",
    "        preprocessor = ColumnTransformer(\n",
    "            transformers=[\n",
    "                ('num', StandardScaler(), numeric_features),\n",
    "                ('cat', OneHotEncoder(handle_unknown='ignore'), categorical_features)\n",
    "            ])\n",
    "\n",
    "        X_train = preprocessor.fit_transform(X_train)\n",
    "        X_val = preprocessor.transform(X_val)\n",
    "\n",
    "        # Convert to tensors\n",
    "        self.X_train = torch.tensor(X_train.toarray() if hasattr(X_train, \"toarray\") else X_train, dtype=torch.float32)\n",
    "        self.X_val = torch.tensor(X_val.toarray() if hasattr(X_val, \"toarray\") else X_val, dtype=torch.float32)\n",
    "        self.y_train = torch.tensor(y_train.values, dtype=torch.float32)\n",
    "        self.y_val = torch.tensor(y_val.values, dtype=torch.float32)\n",
    "\n",
    "    def train_dataloader(self):\n",
    "        train_dataset = TensorDataset(self.X_train, self.y_train)\n",
    "        return DataLoader(train_dataset, batch_size=self.batch_size, shuffle=True)\n",
    "\n",
    "    def val_dataloader(self):\n",
    "        val_dataset = TensorDataset(self.X_val, self.y_val)\n",
    "        return DataLoader(val_dataset, batch_size=self.batch_size)\n"
   ]
  },
  {
   "cell_type": "code",
   "execution_count": 8,
   "metadata": {},
   "outputs": [],
   "source": [
    "# Initialiseer de DataModule\n",
    "data_files = [r\"C:\\Users\\sanma\\Downloads\\PORSCH\\PORSCH pancreas map\\PORSCH_Postop_CT_scans_export_20201128.csv\",\n",
    "r\"C:\\Users\\sanma\\Downloads\\PORSCH\\PORSCH pancreas map\\PORSCH_Postoperatieve_biochemie_export_20201128.csv\",\n",
    "r\"C:\\Users\\sanma\\Downloads\\PORSCH\\PORSCH pancreas map\\PORSCH_Postoperatieve_klinische_parameters_(per_29-08-2019)_export_20201128.csv\",\n",
    "r\"C:\\Users\\sanma\\Downloads\\PORSCH\\PORSCH pancreas map\\PORSCH_Postoperatieve_klinische_parameters_(per_29-08-2019_alleen_1.1_en_1.5_invullen)_export_20201207.csv\",\n",
    "r\"C:\\Users\\sanma\\Downloads\\PORSCH\\PORSCH pancreas map\\PORSCH_PTC_drainage_export_20210310.csv\",\n",
    "r\"C:\\Users\\sanma\\Downloads\\PORSCH\\PORSCH pancreas map\\PORSCH_Relaparotomie_export_20201128.csv\",\n",
    "r\"C:\\Users\\sanma\\Downloads\\PORSCH\\PORSCH pancreas map\\PORSCH_Transgastrische_drainage_export_20210310.csv\",\n",
    "r\"C:\\Users\\sanma\\Downloads\\PORSCH\\PORSCH pancreas map\\PORSCH_Voedingssondeplaatsing_export_20210310.csv\",\n",
    "r\"C:\\Users\\sanma\\Downloads\\PORSCH\\PORSCH pancreas map\\cRdGG - porsch lab.csv\",\n",
    "r\"C:\\Users\\sanma\\Downloads\\PORSCH\\PORSCH pancreas map\\cSTAZ - ab.csv\",\n",
    "r\"C:\\Users\\sanma\\Downloads\\PORSCH\\PORSCH pancreas map\\cSTAZ - bloeddruk.csv\",\n",
    "r\"C:\\Users\\sanma\\Downloads\\PORSCH\\PORSCH pancreas map\\cSTAZ - lab.csv\",\n",
    "r\"C:\\Users\\sanma\\Downloads\\PORSCH\\PORSCH pancreas map\\cUMCU - Lab PORSCH 28 jan 2019.csv\",\n",
    "r\"C:\\Users\\sanma\\Downloads\\PORSCH\\PORSCH pancreas map\\cAMC - ab.csv\",\n",
    "r\"C:\\Users\\sanma\\Downloads\\PORSCH\\PORSCH pancreas map\\cAMC - biochemie.csv\",\n",
    "r\"C:\\Users\\sanma\\Downloads\\PORSCH\\PORSCH pancreas map\\cAMC - bloeddruk.csv\",\n",
    "r\"C:\\Users\\sanma\\Downloads\\PORSCH\\PORSCH pancreas map\\cAMC - Sat AHF FiO2.csv\",\n",
    "r\"C:\\Users\\sanma\\Downloads\\PORSCH\\PORSCH pancreas map\\cAMC - sleutelbestand.csv\",\n",
    "r\"C:\\Users\\sanma\\Downloads\\PORSCH\\PORSCH pancreas map\\cAmphia - ab.csv\",\n",
    "r\"C:\\Users\\sanma\\Downloads\\PORSCH\\PORSCH pancreas map\\cAmphia - biochemie.csv\",\n",
    "r\"C:\\Users\\sanma\\Downloads\\PORSCH\\PORSCH pancreas map\\cCatharina - ab.csv\",\n",
    "r\"C:\\Users\\sanma\\Downloads\\PORSCH\\PORSCH pancreas map\\cCatharina - bloeddruk.csv\",\n",
    "r\"C:\\Users\\sanma\\Downloads\\PORSCH\\PORSCH pancreas map\\cCatharina - PORSCH lab.csv\",\n",
    "r\"C:\\Users\\sanma\\Downloads\\PORSCH\\PORSCH pancreas map\\cJBZ - 2020-046 Porsch - LAB uitslagen.csv\",\n",
    "r\"C:\\Users\\sanma\\Downloads\\PORSCH\\PORSCH pancreas map\\cJBZ - ab.csv\",\n",
    "r\"C:\\Users\\sanma\\Downloads\\PORSCH\\PORSCH pancreas map\\cJBZ - bloeddruk.csv\",\n",
    "r\"C:\\Users\\sanma\\Downloads\\PORSCH\\PORSCH pancreas map\\cLUMC - ab.csv\",\n",
    "r\"C:\\Users\\sanma\\Downloads\\PORSCH\\PORSCH pancreas map\\cLUMC - biochemie.csv\",\n",
    "r\"C:\\Users\\sanma\\Downloads\\PORSCH\\PORSCH pancreas map\\cMUMC - Participanten MUMC Porsch MdD_LAB.csv\",\n",
    "r\"C:\\Users\\sanma\\Downloads\\PORSCH\\PORSCH pancreas map\\cOLVG - ab.csv\",\n",
    "r\"C:\\Users\\sanma\\Downloads\\PORSCH\\PORSCH pancreas map\\cOLVG - PORSCH lab.csv\",\n",
    "r\"C:\\Users\\sanma\\Downloads\\PORSCH\\PORSCH pancreas map\\cox.time.to.adjuvant.csv\",\n",
    "r\"C:\\Users\\sanma\\Downloads\\PORSCH\\PORSCH pancreas map\\cRadboud - 12_Lab_Porsch.csv\",\n",
    "r\"C:\\Users\\sanma\\Downloads\\PORSCH\\PORSCH pancreas map\\cRadboud - ab.csv\",\n",
    "r\"C:\\Users\\sanma\\Downloads\\PORSCH\\PORSCH pancreas map\\cRadboud - bloeddruk.csv\",\n",
    "r\"C:\\Users\\sanma\\Downloads\\PORSCH\\PORSCH pancreas map\\cRdGG - ab.csv\",\n",
    "r\"C:\\Users\\sanma\\Downloads\\PORSCH\\PORSCH pancreas map\\data.full.DCPAincluded.csv\",\n",
    "r\"C:\\Users\\sanma\\Downloads\\PORSCH\\PORSCH pancreas map\\data.full.DCPAincluded_aangepast.csv\",\n",
    "r\"C:\\Users\\sanma\\Downloads\\PORSCH\\PORSCH pancreas map\\ENDPOINTS AFTER ADJUDICATION DEFINITIVE.csv\",\n",
    "r\"C:\\Users\\sanma\\Downloads\\PORSCH\\PORSCH pancreas map\\PORSCH_Datadictionary_CASTOR_23052018.xlsx\",\n",
    "r\"C:\\Users\\sanma\\Downloads\\PORSCH\\PORSCH pancreas map\\PORSCH_Endoscopische_interventie_bloeding_export_20201128.csv\",\n",
    "r\"C:\\Users\\sanma\\Downloads\\PORSCH\\PORSCH pancreas map\\PORSCH_Endovasculaire_(angiografische)_interventie_export_20201128.csv\",\n",
    "r\"C:\\Users\\sanma\\Downloads\\PORSCH\\PORSCH pancreas map\\PORSCH_export_20210329.csv\",\n",
    "r\"C:\\Users\\sanma\\Downloads\\PORSCH\\PORSCH pancreas map\\PORSCH_Minimaal_invasieve_percutane_drainage_export_20201128.csv\"]  # Voeg hier alle bestandspaden toe\n",
    "dd_path = 'path_to_data_dictionary.xlsx'\n",
    "\n",
    "\n",
    "data_module = PORSCH2DataModule(data_files, dd_path)"
   ]
  },
  {
   "cell_type": "code",
   "execution_count": null,
   "metadata": {},
   "outputs": [],
   "source": [
    "# Voer data voorbereiding uit\n",
    "data_module.prepare_data()"
   ]
  },
  {
   "cell_type": "code",
   "execution_count": null,
   "metadata": {},
   "outputs": [],
   "source": [
    "#Controleer missende waarden (optioneel)\n",
    "missing_data = data_module.data.isnull().sum() / len(data_module.data) * 100\n",
    "print(\"Percentage missende waarden per variabele:\")\n",
    "print(missing_data.sort_values(ascending=False))"
   ]
  },
  {
   "cell_type": "code",
   "execution_count": null,
   "metadata": {},
   "outputs": [],
   "source": [
    "#Set up de data voor training\n",
    "data_module.setup()"
   ]
  },
  {
   "cell_type": "code",
   "execution_count": null,
   "metadata": {},
   "outputs": [],
   "source": [
    "#Controleer de vorm van de trainingsdata (optioneel)\n",
    "print(\"Vorm van trainingsdata:\", data_module.X_train.shape)\n",
    "print(\"Vorm van trainingslabels:\", data_module.y_train.shape)"
   ]
  },
  {
   "cell_type": "code",
   "execution_count": null,
   "metadata": {},
   "outputs": [],
   "source": [
    "#Definieer het model (voorbeeld)\n",
    "class PORSCH2Model(pl.LightningModule):\n",
    "    def __init__(self, input_size):\n",
    "        super().__init__()\n",
    "        self.layer1 = torch.nn.Linear(input_size, 64)\n",
    "        self.layer2 = torch.nn.Linear(64, 32)\n",
    "        self.layer3 = torch.nn.Linear(32, 1)\n",
    "\n",
    "    def forward(self, x):\n",
    "        x = torch.relu(self.layer1(x))\n",
    "        x = torch.relu(self.layer2(x))\n",
    "        return torch.sigmoid(self.layer3(x))\n",
    "\n",
    "    def training_step(self, batch, batch_idx):\n",
    "        x, y = batch\n",
    "        y_hat = self(x)\n",
    "        loss = torch.nn.functional.binary_cross_entropy(y_hat, y)\n",
    "        self.log('train_loss', loss)\n",
    "        return loss\n",
    "\n",
    "    def configure_optimizers(self):\n",
    "        return torch.optim.Adam(self.parameters(), lr=0.02)"
   ]
  },
  {
   "cell_type": "code",
   "execution_count": null,
   "metadata": {},
   "outputs": [],
   "source": [
    "#Initialiseer het model\n",
    "model = PORSCH2Model(input_size=data_module.X_train.shape[1])"
   ]
  },
  {
   "cell_type": "code",
   "execution_count": null,
   "metadata": {},
   "outputs": [],
   "source": [
    "# Train het model\n",
    "trainer = pl.Trainer(max_epochs=10)\n",
    "trainer.fit(model, data_module)"
   ]
  },
  {
   "cell_type": "code",
   "execution_count": null,
   "metadata": {},
   "outputs": [],
   "source": [
    "# Evalueer het model (voorbeeld)\n",
    "model.eval()\n",
    "with torch.no_grad():\n",
    "    val_predictions = model(data_module.X_val)\n",
    "    # Voeg hier evaluatiemetrieken toe"
   ]
  }
 ],
 "metadata": {
  "kernelspec": {
   "display_name": "porsch2",
   "language": "python",
   "name": "python3"
  },
  "language_info": {
   "codemirror_mode": {
    "name": "ipython",
    "version": 3
   },
   "file_extension": ".py",
   "mimetype": "text/x-python",
   "name": "python",
   "nbconvert_exporter": "python",
   "pygments_lexer": "ipython3",
   "version": "3.11.9"
  }
 },
 "nbformat": 4,
 "nbformat_minor": 2
}
